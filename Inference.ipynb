{
  "nbformat": 4,
  "nbformat_minor": 0,
  "metadata": {
    "colab": {
      "provenance": []
    },
    "kernelspec": {
      "name": "python3",
      "display_name": "Python 3"
    },
    "language_info": {
      "name": "python"
    }
  },
  "cells": [
    {
      "cell_type": "markdown",
      "source": [
        "# **Mount GoogleDrive**"
      ],
      "metadata": {
        "id": "MVp3mjDbBBLB"
      }
    },
    {
      "cell_type": "code",
      "source": [
        "from google.colab import drive\n",
        "drive.mount('/content/drive', force_remount=True)"
      ],
      "metadata": {
        "colab": {
          "base_uri": "https://localhost:8080/"
        },
        "id": "S5B9cZn5HFoY",
        "outputId": "5f739537-1719-4050-cda1-4d8cf8fd3777"
      },
      "execution_count": null,
      "outputs": [
        {
          "output_type": "stream",
          "name": "stdout",
          "text": [
            "Mounted at /content/drive\n"
          ]
        }
      ]
    },
    {
      "cell_type": "markdown",
      "source": [
        "# **Import Model**"
      ],
      "metadata": {
        "id": "pOALSXY7BGYl"
      }
    },
    {
      "cell_type": "code",
      "source": [
        "import numpy as np\n",
        "from tensorflow.keras.preprocessing.sequence import pad_sequences\n",
        "from tensorflow.keras.models import load_model"
      ],
      "metadata": {
        "id": "kvZtym7ZLmyE"
      },
      "execution_count": null,
      "outputs": []
    },
    {
      "cell_type": "code",
      "execution_count": null,
      "metadata": {
        "colab": {
          "base_uri": "https://localhost:8080/"
        },
        "id": "w_5CuxOnG2_c",
        "outputId": "19a5d30a-7c0a-4de9-aef3-b400b15d3e52"
      },
      "outputs": [
        {
          "output_type": "stream",
          "name": "stderr",
          "text": [
            "WARNING:absl:Compiled the loaded model, but the compiled metrics have yet to be built. `model.compile_metrics` will be empty until you train or evaluate the model.\n"
          ]
        }
      ],
      "source": [
        "import joblib\n",
        "\n",
        "# Load model dan vectorizer dari Google Drive\n",
        "model_path = '/content/drive/MyDrive/cnn_model.h5'\n",
        "tokenizer_path = '/content/drive/MyDrive/tokenizer.pkl'\n",
        "\n",
        "model = load_model(model_path)\n",
        "tokenizer = joblib.load(tokenizer_path)"
      ]
    },
    {
      "cell_type": "markdown",
      "source": [
        "# **Label Mapping**"
      ],
      "metadata": {
        "id": "YW8GgtQuBIyo"
      }
    },
    {
      "cell_type": "code",
      "source": [
        "label_mapping = {0: 'negatif', 1: 'netral', 2: 'positif'}"
      ],
      "metadata": {
        "id": "9wFM2Nf0HPl4"
      },
      "execution_count": null,
      "outputs": []
    },
    {
      "cell_type": "markdown",
      "source": [
        "# **Fungsi Inference**"
      ],
      "metadata": {
        "id": "tL5EO09ZBQOV"
      }
    },
    {
      "cell_type": "code",
      "source": [
        "def predict_sentiment(text):\n",
        "    text_clean = [text.lower()]\n",
        "\n",
        "    seq = tokenizer.texts_to_sequences(text_clean)\n",
        "    padded = pad_sequences(seq, padding='post', maxlen=100)\n",
        "\n",
        "    pred_probs = model.predict(padded)\n",
        "    pred_class = np.argmax(pred_probs, axis=1)[0]\n",
        "\n",
        "    return label_mapping[pred_class]"
      ],
      "metadata": {
        "id": "1beNIiKxHR0o"
      },
      "execution_count": null,
      "outputs": []
    },
    {
      "cell_type": "markdown",
      "source": [
        "# **Prediksi**"
      ],
      "metadata": {
        "id": "AxdfYa55BVyZ"
      }
    },
    {
      "cell_type": "code",
      "source": [
        "test_texts = [\n",
        "    \"This app is very helpful and easy to use.\",\n",
        "    \"Stupid game.\",\n",
        "    \"Mashallah, this game is good.\",\n",
        "    \"The game is okay, but still has a lot of flaws.\"\n",
        "]\n",
        "\n",
        "# Prediksi\n",
        "for text in test_texts:\n",
        "    result = predict_sentiment(text)\n",
        "    print(f\"Teks: {text}\\nPrediksi: {result}\\n\")\n"
      ],
      "metadata": {
        "colab": {
          "base_uri": "https://localhost:8080/"
        },
        "id": "95c3MEawHYMP",
        "outputId": "9fe9deca-1c2b-4d5c-d471-029bb3830480"
      },
      "execution_count": null,
      "outputs": [
        {
          "output_type": "stream",
          "name": "stdout",
          "text": [
            "\u001b[1m1/1\u001b[0m \u001b[32m━━━━━━━━━━━━━━━━━━━━\u001b[0m\u001b[37m\u001b[0m \u001b[1m0s\u001b[0m 38ms/step\n",
            "Teks: This app is very helpful and easy to use.\n",
            "Prediksi: positif\n",
            "\n",
            "\u001b[1m1/1\u001b[0m \u001b[32m━━━━━━━━━━━━━━━━━━━━\u001b[0m\u001b[37m\u001b[0m \u001b[1m0s\u001b[0m 35ms/step\n",
            "Teks: Stupid game.\n",
            "Prediksi: negatif\n",
            "\n",
            "\u001b[1m1/1\u001b[0m \u001b[32m━━━━━━━━━━━━━━━━━━━━\u001b[0m\u001b[37m\u001b[0m \u001b[1m0s\u001b[0m 40ms/step\n",
            "Teks: Mashallah, this game is good.\n",
            "Prediksi: positif\n",
            "\n",
            "\u001b[1m1/1\u001b[0m \u001b[32m━━━━━━━━━━━━━━━━━━━━\u001b[0m\u001b[37m\u001b[0m \u001b[1m0s\u001b[0m 41ms/step\n",
            "Teks: The game is okay, but still has a lot of flaws.\n",
            "Prediksi: positif\n",
            "\n"
          ]
        }
      ]
    },
    {
      "cell_type": "markdown",
      "source": [
        "Dapat dilihat pada hasil prediksi model dapat memprediksi dengan baik kategori positif. namun, kurang bisa memprediksi kategori netral dan negatif. Kedepannya untuk proyek serupa, dapat mengumpulkan lebih banyak data dengan jumlah antar kategori lebih seimbangan atau dengan labeling yang lebih advanced."
      ],
      "metadata": {
        "id": "_aPJ3jiJAmud"
      }
    }
  ]
}